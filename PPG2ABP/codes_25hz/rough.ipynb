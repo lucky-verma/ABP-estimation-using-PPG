{
 "cells": [
  {
   "cell_type": "code",
   "execution_count": null,
   "metadata": {},
   "outputs": [],
   "source": [
    "import torch\n",
    "from data_processing import process_data\n",
    "\n",
    "# show the version of pytorch\n",
    "print(torch.__version__)\n"
   ]
  },
  {
   "cell_type": "code",
   "execution_count": null,
   "metadata": {},
   "outputs": [],
   "source": [
    "# Read mat file using hdf5\n",
    "import h5py\n",
    "import numpy as np\n",
    "import matplotlib.pyplot as plt\n",
    "import matplotlib.image as mpimg\n",
    "import os\n",
    "import cv2\n",
    "import random\n",
    "import pickle\n"
   ]
  },
  {
   "cell_type": "code",
   "execution_count": null,
   "metadata": {},
   "outputs": [],
   "source": [
    "f = h5py.File('raw_data/Part_1.mat', 'r')"
   ]
  },
  {
   "cell_type": "code",
   "execution_count": null,
   "metadata": {},
   "outputs": [],
   "source": [
    "len(f), list(f.keys())"
   ]
  },
  {
   "cell_type": "code",
   "execution_count": null,
   "metadata": {},
   "outputs": [],
   "source": [
    "len(f['Part_1'])"
   ]
  },
  {
   "cell_type": "code",
   "execution_count": null,
   "metadata": {},
   "outputs": [],
   "source": [
    "len(f[f['Part_1'][99][0]])"
   ]
  },
  {
   "cell_type": "code",
   "execution_count": null,
   "metadata": {},
   "outputs": [],
   "source": [
    "f[f['Part_1'][99][0]][69]"
   ]
  },
  {
   "cell_type": "code",
   "execution_count": null,
   "metadata": {},
   "outputs": [],
   "source": []
  },
  {
   "cell_type": "markdown",
   "metadata": {},
   "source": [
    "### Read kaggle mat file\n"
   ]
  },
  {
   "cell_type": "code",
   "execution_count": null,
   "metadata": {},
   "outputs": [],
   "source": [
    "# Read the mat file\n",
    "from scipy.io import loadmat \n",
    "mat = loadmat('raw_data_k/part_1.mat')['p']"
   ]
  },
  {
   "cell_type": "code",
   "execution_count": null,
   "metadata": {},
   "outputs": [],
   "source": [
    "len(mat[0])"
   ]
  },
  {
   "cell_type": "code",
   "execution_count": null,
   "metadata": {},
   "outputs": [],
   "source": [
    "len(mat[0][99][0])"
   ]
  },
  {
   "cell_type": "code",
   "execution_count": null,
   "metadata": {},
   "outputs": [],
   "source": [
    "mat[0][0][1]"
   ]
  },
  {
   "cell_type": "code",
   "execution_count": null,
   "metadata": {},
   "outputs": [],
   "source": []
  },
  {
   "cell_type": "code",
   "execution_count": null,
   "metadata": {},
   "outputs": [],
   "source": [
    "bp = mat[0][99][1].tolist() "
   ]
  },
  {
   "cell_type": "code",
   "execution_count": null,
   "metadata": {},
   "outputs": [],
   "source": [
    "fs = 125\t\t\t\t\t\t\t\t# sampling frequency\n",
    "t = 10\t\t\t\t\t\t\t\t\t# length of ppg episodes\n",
    "dt = 5\t\t\t\t\t\t\t\t\t# step size of taking the next episode\n",
    "\n",
    "samples_in_episode = round(fs * t)\n",
    "\n",
    "\n",
    "max(bp[0:0 + samples_in_episode])\n"
   ]
  },
  {
   "cell_type": "code",
   "execution_count": null,
   "metadata": {},
   "outputs": [],
   "source": [
    "\n",
    "candidates = pickle.load(open('candidates.p', 'rb'))\n",
    "\n",
    "record_no = int(candidates[0][1])"
   ]
  },
  {
   "cell_type": "code",
   "execution_count": null,
   "metadata": {},
   "outputs": [],
   "source": [
    "mat[0][record_no][1][69]"
   ]
  },
  {
   "cell_type": "code",
   "execution_count": null,
   "metadata": {},
   "outputs": [],
   "source": []
  },
  {
   "cell_type": "code",
   "execution_count": null,
   "metadata": {},
   "outputs": [],
   "source": []
  },
  {
   "cell_type": "code",
   "execution_count": null,
   "metadata": {},
   "outputs": [],
   "source": [
    "from kaggle_dataprocessing import process_data\n",
    "\n",
    "process_data()"
   ]
  },
  {
   "cell_type": "code",
   "execution_count": null,
   "metadata": {},
   "outputs": [],
   "source": []
  },
  {
   "cell_type": "code",
   "execution_count": null,
   "metadata": {},
   "outputs": [],
   "source": [
    "from data_processing import process_data\n",
    "\n",
    "process_data()"
   ]
  },
  {
   "cell_type": "code",
   "execution_count": null,
   "metadata": {},
   "outputs": [],
   "source": [
    "from data_processing import observe_processed_data\n",
    "\n",
    "observe_processed_data()\n"
   ]
  },
  {
   "cell_type": "code",
   "execution_count": null,
   "metadata": {},
   "outputs": [],
   "source": [
    "from data_processing import downsample_data\n",
    "\n",
    "downsample_data()\n"
   ]
  },
  {
   "cell_type": "code",
   "execution_count": null,
   "metadata": {},
   "outputs": [],
   "source": [
    "from kaggle_dataprocessing import extract_episodes\n",
    "import pickle\n",
    "\n",
    "candidates = pickle.load(open('candidates.p', 'rb'))\n",
    "extract_episodes(candidates)\n"
   ]
  },
  {
   "cell_type": "code",
   "execution_count": null,
   "metadata": {},
   "outputs": [],
   "source": [
    "from kaggle_dataprocessing import merge_episodes\n",
    "\n",
    "merge_episodes()\n"
   ]
  },
  {
   "cell_type": "code",
   "execution_count": null,
   "metadata": {},
   "outputs": [],
   "source": [
    "from data_handling import fold_data\n",
    "\n",
    "fold_data()\n"
   ]
  },
  {
   "cell_type": "code",
   "execution_count": null,
   "metadata": {},
   "outputs": [],
   "source": []
  },
  {
   "cell_type": "code",
   "execution_count": null,
   "metadata": {},
   "outputs": [],
   "source": [
    "!python -c \"import tensorflow as tf; print(tf.config.list_physical_devices('GPU'))\""
   ]
  },
  {
   "cell_type": "code",
   "execution_count": null,
   "metadata": {},
   "outputs": [],
   "source": [
    "from helper_functions import *\n",
    "from models import *\n",
    "from train_models import train_approximate_network\n",
    "\n",
    "train_approximate_network()\n"
   ]
  },
  {
   "cell_type": "code",
   "execution_count": null,
   "metadata": {},
   "outputs": [],
   "source": []
  },
  {
   "cell_type": "code",
   "execution_count": null,
   "metadata": {},
   "outputs": [],
   "source": []
  },
  {
   "cell_type": "code",
   "execution_count": null,
   "metadata": {},
   "outputs": [],
   "source": [
    "from helper_functions import *\n",
    "from models import UNetDS64, MultiResUNet1D\n",
    "import os\n",
    "from predict_test import predict_test_data\n",
    "\n",
    "predict_test_data()"
   ]
  },
  {
   "cell_type": "code",
   "execution_count": null,
   "metadata": {},
   "outputs": [],
   "source": [
    "import pandas as pd\n",
    "import pickle\n"
   ]
  },
  {
   "cell_type": "code",
   "execution_count": null,
   "metadata": {},
   "outputs": [],
   "source": [
    "# load the test pickle file\n",
    "\n",
    "test_data = pickle.load(open('data/test.p', 'rb'))"
   ]
  },
  {
   "cell_type": "code",
   "execution_count": null,
   "metadata": {},
   "outputs": [],
   "source": [
    "test_data['X_test'][0].shape\n"
   ]
  },
  {
   "cell_type": "code",
   "execution_count": null,
   "metadata": {},
   "outputs": [],
   "source": [
    "test_data['X_test'][0][:40]"
   ]
  },
  {
   "cell_type": "code",
   "execution_count": null,
   "metadata": {},
   "outputs": [],
   "source": [
    "df = pd.DataFrame({'ppg' : list(test_data['X_test'][0])[0], 'abp': list(test_data['Y_test'][0])[0]})"
   ]
  },
  {
   "cell_type": "code",
   "execution_count": null,
   "metadata": {},
   "outputs": [],
   "source": []
  },
  {
   "cell_type": "code",
   "execution_count": null,
   "metadata": {},
   "outputs": [],
   "source": []
  },
  {
   "cell_type": "code",
   "execution_count": null,
   "metadata": {},
   "outputs": [],
   "source": []
  },
  {
   "cell_type": "markdown",
   "metadata": {},
   "source": [
    "## unprocessed mat file"
   ]
  },
  {
   "cell_type": "code",
   "execution_count": 1,
   "metadata": {},
   "outputs": [],
   "source": [
    "import scipy.io as sio\n",
    "\n",
    "# load the test mat file\n",
    "test_mat = sio.loadmat('raw_data_k/part_1.mat')"
   ]
  },
  {
   "cell_type": "code",
   "execution_count": 2,
   "metadata": {},
   "outputs": [
    {
     "data": {
      "text/plain": [
       "array([1.75953079, 1.71847507, 1.68426197, 1.65786901, 1.63734115,\n",
       "       1.61583578, 1.59335288, 1.57086999, 1.54936461, 1.52688172])"
      ]
     },
     "execution_count": 2,
     "metadata": {},
     "output_type": "execute_result"
    }
   ],
   "source": [
    "test_mat['p'][0][0][0][:10]"
   ]
  },
  {
   "cell_type": "code",
   "execution_count": null,
   "metadata": {},
   "outputs": [],
   "source": []
  },
  {
   "cell_type": "markdown",
   "metadata": {},
   "source": [
    "### processed mat file"
   ]
  },
  {
   "cell_type": "code",
   "execution_count": 3,
   "metadata": {},
   "outputs": [
    {
     "data": {
      "text/plain": [
       "array([[0.10549451],\n",
       "       [0.1035409 ],\n",
       "       [0.1015873 ],\n",
       "       [0.0998779 ],\n",
       "       [0.0979243 ],\n",
       "       [0.0962149 ],\n",
       "       [0.09450549],\n",
       "       [0.09304029],\n",
       "       [0.09157509],\n",
       "       [0.09010989]])"
      ]
     },
     "execution_count": 3,
     "metadata": {},
     "output_type": "execute_result"
    }
   ],
   "source": [
    "import pickle \n",
    "\n",
    "dt = pickle.load(open(os.path.join('data','train0.p'),'rb'))\n",
    "dt['X_train'][0][:10]"
   ]
  },
  {
   "cell_type": "code",
   "execution_count": 4,
   "metadata": {},
   "outputs": [
    {
     "data": {
      "text/plain": [
       "{'max_ppg': 4.002932551319648,\n",
       " 'min_ppg': 0.0,\n",
       " 'max_abp': 199.98749589709124,\n",
       " 'min_abp': 50.0}"
      ]
     },
     "execution_count": 4,
     "metadata": {},
     "output_type": "execute_result"
    }
   ],
   "source": [
    "mdt = pickle.load(open(os.path.join('data', 'meta0.p'), 'rb'))\n",
    "mdt"
   ]
  },
  {
   "cell_type": "markdown",
   "metadata": {},
   "source": [
    "## profs data"
   ]
  },
  {
   "cell_type": "code",
   "execution_count": 5,
   "metadata": {},
   "outputs": [],
   "source": [
    "multiplier = 1e-6 / 5"
   ]
  },
  {
   "cell_type": "code",
   "execution_count": 1,
   "metadata": {},
   "outputs": [],
   "source": [
    "# read the csv\n",
    "import pickle\n",
    "import matplotlib.pyplot as plt\n",
    "import matplotlib.lines as mlines\n",
    "import pandas as pd\n",
    "import numpy as np\n",
    "import os\n",
    "from glob import glob\n",
    "\n",
    "PATH = r'C:\\Users\\LuckyVerma\\Documents\\ABP-estimation-using-PPG\\PPG2ABP\\codes_25hz\\module2out-ABUD-Hovid_CC\\ABUD07_Salvaged'  # use your pathimport os\n",
    "EXT = \"*.csv\"\n",
    "all_csv_files = [file\n",
    "                 for path, subdir, files in os.walk(PATH)\n",
    "                 for file in glob(os.path.join(path, EXT))]\n",
    "\n",
    "df_from_each_file = (pd.read_csv(f) for f in all_csv_files)\n",
    "df = pd.concat(df_from_each_file, ignore_index=True)"
   ]
  },
  {
   "cell_type": "code",
   "execution_count": 2,
   "metadata": {},
   "outputs": [
    {
     "name": "stderr",
     "output_type": "stream",
     "text": [
      "C:\\Users\\LUCKYV~1\\AppData\\Local\\Temp/ipykernel_19144/1905737026.py:2: SettingWithCopyWarning: \n",
      "A value is trying to be set on a copy of a slice from a DataFrame.\n",
      "Try using .loc[row_indexer,col_indexer] = value instead\n",
      "\n",
      "See the caveats in the documentation: https://pandas.pydata.org/pandas-docs/stable/user_guide/indexing.html#returning-a-view-versus-a-copy\n",
      "  ndf['Green'] = ndf['Green'].apply(lambda x: [x])  # * multiplier\n"
     ]
    },
    {
     "data": {
      "text/html": [
       "<div>\n",
       "<style scoped>\n",
       "    .dataframe tbody tr th:only-of-type {\n",
       "        vertical-align: middle;\n",
       "    }\n",
       "\n",
       "    .dataframe tbody tr th {\n",
       "        vertical-align: top;\n",
       "    }\n",
       "\n",
       "    .dataframe thead th {\n",
       "        text-align: right;\n",
       "    }\n",
       "</style>\n",
       "<table border=\"1\" class=\"dataframe\">\n",
       "  <thead>\n",
       "    <tr style=\"text-align: right;\">\n",
       "      <th></th>\n",
       "      <th>Green</th>\n",
       "      <th>SBP</th>\n",
       "      <th>DBP</th>\n",
       "    </tr>\n",
       "  </thead>\n",
       "  <tbody>\n",
       "    <tr>\n",
       "      <th>0</th>\n",
       "      <td>[27157612]</td>\n",
       "      <td>120</td>\n",
       "      <td>66</td>\n",
       "    </tr>\n",
       "    <tr>\n",
       "      <th>1</th>\n",
       "      <td>[27165977]</td>\n",
       "      <td>120</td>\n",
       "      <td>66</td>\n",
       "    </tr>\n",
       "    <tr>\n",
       "      <th>2</th>\n",
       "      <td>[27172450]</td>\n",
       "      <td>120</td>\n",
       "      <td>66</td>\n",
       "    </tr>\n",
       "    <tr>\n",
       "      <th>3</th>\n",
       "      <td>[27183158]</td>\n",
       "      <td>120</td>\n",
       "      <td>66</td>\n",
       "    </tr>\n",
       "    <tr>\n",
       "      <th>4</th>\n",
       "      <td>[27194485]</td>\n",
       "      <td>120</td>\n",
       "      <td>66</td>\n",
       "    </tr>\n",
       "  </tbody>\n",
       "</table>\n",
       "</div>"
      ],
      "text/plain": [
       "        Green  SBP  DBP\n",
       "0  [27157612]  120   66\n",
       "1  [27165977]  120   66\n",
       "2  [27172450]  120   66\n",
       "3  [27183158]  120   66\n",
       "4  [27194485]  120   66"
      ]
     },
     "execution_count": 2,
     "metadata": {},
     "output_type": "execute_result"
    }
   ],
   "source": [
    "ndf = df[['Green', 'SBP', 'DBP']]\n",
    "ndf['Green'] = ndf['Green'].apply(lambda x: [x])  # * multiplier\n",
    "ndf.head()"
   ]
  },
  {
   "cell_type": "markdown",
   "metadata": {},
   "source": [
    "#### Before normalization"
   ]
  },
  {
   "cell_type": "code",
   "execution_count": 3,
   "metadata": {},
   "outputs": [
    {
     "data": {
      "text/plain": [
       "<matplotlib.legend.Legend at 0x1be38b9fc10>"
      ]
     },
     "execution_count": 3,
     "metadata": {},
     "output_type": "execute_result"
    },
    {
     "data": {
      "image/png": "[encoded data removed]",
      "text/plain": [
       "<Figure size 864x288 with 1 Axes>"
      ]
     },
     "metadata": {
      "needs_background": "light"
     },
     "output_type": "display_data"
    }
   ],
   "source": [
    "## Visualizing SBP and DBP\n",
    "fig, ax = plt.subplots(1,1, figsize=(12,4))\n",
    "\n",
    "plt.title('SBP vs DBP graph', fontsize=16)\n",
    "plt.ylabel('Signal Value')\n",
    "plt.plot(df['SBP'][:1024])\n",
    "plt.plot(df['DBP'][:1024])\n",
    "plt.legend(['SBP', 'DBP'])"
   ]
  },
  {
   "cell_type": "code",
   "execution_count": 4,
   "metadata": {},
   "outputs": [
    {
     "data": {
      "text/plain": [
       "<matplotlib.legend.Legend at 0x1be39dec2b0>"
      ]
     },
     "execution_count": 4,
     "metadata": {},
     "output_type": "execute_result"
    },
    {
     "data": {
      "image/png": "[encoded data removed]",
      "text/plain": [
       "<Figure size 864x288 with 1 Axes>"
      ]
     },
     "metadata": {
      "needs_background": "light"
     },
     "output_type": "display_data"
    }
   ],
   "source": [
    "## Visualizing SBP and DBP\n",
    "fig, ax = plt.subplots(1, 1, figsize=(12, 4))\n",
    "\n",
    "plt.title('PPG graph', fontsize=16)\n",
    "plt.ylabel('Signal Value')\n",
    "plt.plot(df['Green'][:1024])\n",
    "plt.legend(['PPG'])"
   ]
  },
  {
   "cell_type": "markdown",
   "metadata": {},
   "source": [
    "### Create meta data"
   ]
  },
  {
   "cell_type": "code",
   "execution_count": 5,
   "metadata": {},
   "outputs": [],
   "source": [
    "max_ppg = -10000                    # intialize metadata, min-max of abp,ppg signals\n",
    "min_ppg = 10000\n",
    "max_abp = -10000\n",
    "min_abp = 10000\n",
    "\n"
   ]
  },
  {
   "cell_type": "code",
   "execution_count": 6,
   "metadata": {},
   "outputs": [],
   "source": [
    "max_ppg = max(df['Green'].tolist()) # * multiplier\n",
    "min_ppg = min(df['Green'].tolist()) # * multiplier\n",
    "max_abp = max(df['SBP'].tolist())\n",
    "min_abp = min(df['DBP'].tolist())\n",
    "\n",
    "meta = {\n",
    "    'max_ppg': max_ppg,\n",
    "    'min_ppg': min_ppg,\n",
    "    'max_abp': max_abp,\n",
    "    'min_abp': min_abp\n",
    "}\n"
   ]
  },
  {
   "cell_type": "code",
   "execution_count": 7,
   "metadata": {},
   "outputs": [
    {
     "data": {
      "text/plain": [
       "{'max_ppg': 70011940, 'min_ppg': 6791599, 'max_abp': 166, 'min_abp': 48}"
      ]
     },
     "execution_count": 7,
     "metadata": {},
     "output_type": "execute_result"
    }
   ],
   "source": [
    "meta"
   ]
  },
  {
   "cell_type": "markdown",
   "metadata": {},
   "source": [
    "### Inittialize test data"
   ]
  },
  {
   "cell_type": "markdown",
   "metadata": {},
   "source": [
    "### X_test"
   ]
  },
  {
   "cell_type": "code",
   "execution_count": 8,
   "metadata": {},
   "outputs": [],
   "source": [
    "def convert_1d_to_2d(l, cols):\n",
    "    return [l[i:i + cols] for i in range(0, len(l), cols)]\n",
    "\n",
    "X_test = np.array(convert_1d_to_2d(ndf['Green'].tolist(), 1024)[:-1])\n"
   ]
  },
  {
   "cell_type": "code",
   "execution_count": 9,
   "metadata": {},
   "outputs": [
    {
     "data": {
      "text/plain": [
       "((7, 1024, 1),\n",
       " array([[27157612],\n",
       "        [27165977],\n",
       "        [27172450],\n",
       "        ...,\n",
       "        [14856697],\n",
       "        [14857106],\n",
       "        [14857318]]))"
      ]
     },
     "execution_count": 9,
     "metadata": {},
     "output_type": "execute_result"
    }
   ],
   "source": [
    "X_test.shape, X_test[0]"
   ]
  },
  {
   "cell_type": "code",
   "execution_count": 10,
   "metadata": {},
   "outputs": [
    {
     "data": {
      "text/plain": [
       "((7, 1024, 1),\n",
       " array([[0.32214336],\n",
       "        [0.32227567],\n",
       "        [0.32237806],\n",
       "        ...,\n",
       "        [0.12757125],\n",
       "        [0.12757772],\n",
       "        [0.12758107]]))"
      ]
     },
     "execution_count": 10,
     "metadata": {},
     "output_type": "execute_result"
    }
   ],
   "source": [
    "# Normalize data\n",
    "\n",
    "X_test -= min_ppg  # normalizing\n",
    "X_test = X_test / (max_ppg - min_ppg)\n",
    "\n",
    "X_test.shape, X_test[0]\n"
   ]
  },
  {
   "cell_type": "markdown",
   "metadata": {},
   "source": [
    "#### After normalization"
   ]
  },
  {
   "cell_type": "code",
   "execution_count": 11,
   "metadata": {},
   "outputs": [
    {
     "data": {
      "text/plain": [
       "<matplotlib.legend.Legend at 0x1be39e4f1f0>"
      ]
     },
     "execution_count": 11,
     "metadata": {},
     "output_type": "execute_result"
    },
    {
     "data": {
      "image/png": "[encoded data removed]",
      "text/plain": [
       "<Figure size 864x288 with 1 Axes>"
      ]
     },
     "metadata": {
      "needs_background": "light"
     },
     "output_type": "display_data"
    }
   ],
   "source": [
    "## Visualizing SBP and DBP\n",
    "fig, ax = plt.subplots(1, 1, figsize=(12, 4))\n",
    "\n",
    "plt.title('PPG graph', fontsize=16)\n",
    "plt.ylabel('Signal Value')\n",
    "plt.plot(X_test[0][:1024])\n",
    "plt.legend(['PPG'])"
   ]
  },
  {
   "cell_type": "code",
   "execution_count": 12,
   "metadata": {},
   "outputs": [
    {
     "data": {
      "text/plain": [
       "((7254,), (1024, 1))"
      ]
     },
     "execution_count": 12,
     "metadata": {},
     "output_type": "execute_result"
    }
   ],
   "source": [
    "df['Green'].shape, X_test[0].shape"
   ]
  },
  {
   "cell_type": "markdown",
   "metadata": {},
   "source": [
    "## Results"
   ]
  },
  {
   "cell_type": "code",
   "execution_count": 13,
   "metadata": {},
   "outputs": [],
   "source": [
    "from helper_functions import *\n",
    "from models import UNetDS64, MultiResUNet1D\n",
    "import os"
   ]
  },
  {
   "cell_type": "code",
   "execution_count": 14,
   "metadata": {},
   "outputs": [
    {
     "name": "stdout",
     "output_type": "stream",
     "text": [
      "1/1 [==============================] - 1s 977ms/step\n",
      "1/1 [==============================] - 2s 2s/step\n"
     ]
    }
   ],
   "source": [
    "length = 1024  # length of signal\n",
    "\n",
    "mdl1 = UNetDS64(length)  # creating approximation network\n",
    "mdl1.load_weights(os.path.join('models',\n",
    "                                'ApproximateNetwork.h5'))  # loading weights\n",
    "\n",
    "Y_test_pred_approximate = mdl1.predict(\n",
    "    X_test, verbose=1)  # predicting approximate abp waveform\n",
    "\n",
    "pickle.dump(Y_test_pred_approximate,\n",
    "            open('test_output_approximate.p',\n",
    "                    'wb'))  # saving the approxmiate predictions\n",
    "\n",
    "mdl2 = MultiResUNet1D(length)  # creating refinement network\n",
    "mdl2.load_weights(os.path.join('models',\n",
    "                                'RefinementNetwork.h5'))  # loading weights\n",
    "\n",
    "Y_test_pred = mdl2.predict(Y_test_pred_approximate[0],\n",
    "                            verbose=1)  # predicting abp waveform\n",
    "\n",
    "pickle.dump(Y_test_pred, open('test_output.p',\n",
    "                                'wb'))  # saving the predicted abp waeforms\n"
   ]
  },
  {
   "cell_type": "markdown",
   "metadata": {},
   "source": [
    "### Y_test"
   ]
  },
  {
   "cell_type": "code",
   "execution_count": 15,
   "metadata": {},
   "outputs": [],
   "source": [
    "# Y_test -= min_abp  # normalizing\n",
    "# Y_test /= (max_abp - min_abp)\n"
   ]
  },
  {
   "cell_type": "code",
   "execution_count": 16,
   "metadata": {},
   "outputs": [],
   "source": [
    "import pickle\n",
    "Ypred = pickle.load(open('test_output.p','rb'))      # loading prediction\n"
   ]
  },
  {
   "cell_type": "code",
   "execution_count": 17,
   "metadata": {},
   "outputs": [
    {
     "data": {
      "text/plain": [
       "(7, 1024, 1)"
      ]
     },
     "execution_count": 17,
     "metadata": {},
     "output_type": "execute_result"
    }
   ],
   "source": [
    "Ypred.shape"
   ]
  },
  {
   "cell_type": "markdown",
   "metadata": {},
   "source": [
    "### Evaluation"
   ]
  },
  {
   "cell_type": "code",
   "execution_count": 18,
   "metadata": {},
   "outputs": [],
   "source": [
    "def predicting_ABP_waveform(X_test, mdt):\n",
    "\t\"\"\"\n",
    "\t\tAn interactive way to predict the ABP waveform from PPG signal\n",
    "\t\tfrom the test data.\n",
    "\t\tGround truth, prediction from approximation network and refinement network\n",
    "\t\tare presented, and a comparison is also demonstrated\n",
    "\t\"\"\"\n",
    "\t\n",
    "\tX_test = X_test\t# loading test data\n",
    "\t# Y_test = dt['Y_test']\n",
    "\n",
    "\t# loading metadata\n",
    "\tmax_ppg = mdt['max_ppg']\n",
    "\tmin_ppg = mdt['min_ppg']\n",
    "\tmax_abp = mdt['max_abp']\n",
    "\tmin_abp = mdt['min_abp']\n",
    "\n",
    "\tY_test_pred_approximate = pickle.load(open('test_output_approximate.p', 'rb'))\t# loading precomputed output from approximation network\n",
    "\tY_test_pred_approximate = Y_test_pred_approximate[0]\t\t# taking the actual output, the rest are intermediate ones\n",
    "\n",
    "\tY_test_pred = pickle.load(open('test_output.p', 'rb'))\t# loading precomputed output from refinement network\n",
    "\t\n",
    "\tnum_test_samples = len(Y_test_pred)\t\n",
    "\n",
    "\twhile(True):\t\t\t# interactive cli\n",
    "\n",
    "\t\tindix = int(input(\n",
    "\t\t\t'Please input a record from 1 to {} to visualize.\\nInput -1 to quit.\\n> '.format(num_test_samples)))\n",
    "\n",
    "\t\tif(indix == -1):\t\t\t# exit\n",
    "\t\t\tbreak\n",
    "\n",
    "\t\tif(indix < 1 or indix > num_test_samples):\t\t\t# wrong index\n",
    "\t\t\tcontinue\n",
    "\n",
    "\t\tindix -= 1\n",
    "\n",
    "\t\tppg_signal = X_test[indix] * max_ppg + min_ppg\t\t\t\t\t\t\t\t\t\t\t# input ppg signal\n",
    "\t\tabp_signal_pred_approximate = Y_test_pred_approximate[indix] * max_abp + min_abp\t\t# abp waveform approx.\n",
    "\t\tabp_signal_pred = Y_test_pred[indix] * max_abp + min_abp\t\t\t\t\t\t\t\t# abp waveform predicted\n",
    "\t\t# abp_signal_ground_truth = Y_test[indix] * max_abp + min_abp\t\t\t\t\t\t\t\t# abp waveform ground truth\n",
    "\n",
    "\t\ttime_scale = np.arange(0, 8.192, 8.192/len(ppg_signal))\t\t\t\t\t\t\t\t\t# series for time axis\n",
    "\n",
    "\t\tplt.figure(figsize=(30, 15))\n",
    "\n",
    "\t\tplt.subplot(5, 1, 1)\n",
    "\t\tplt.plot(time_scale, ppg_signal, c='k', linewidth=2)\n",
    "\t\tplt.title('Input PPG Signal', fontsize=20)\n",
    "\n",
    "\t\tplt.subplot(5, 1, 2)\n",
    "\t\tplt.plot(time_scale, abp_signal_pred_approximate, c='r', linewidth=2)\n",
    "\t\tplt.ylabel('ABP (mmHg)', fontsize=15)\n",
    "\t\tplt.title('Output of Approximate Network', fontsize=20)\n",
    "\n",
    "\t\tplt.subplot(5, 1, 3)\n",
    "\t\tplt.plot(time_scale, abp_signal_pred, c='b', linewidth=2)\n",
    "\t\tplt.ylabel('ABP (mmHg)', fontsize=15)\n",
    "\t\tplt.title('Output of Refinement Network', fontsize=20)\n",
    "\n",
    "\t\t# plt.subplot(5, 1, 4)\n",
    "\t\t# plt.plot(time_scale, abp_signal_ground_truth, c='g', linewidth=2)\n",
    "\t\t# plt.ylabel('ABP (mmHg)', fontsize=15)\n",
    "\t\t# plt.title('Ground Truth', fontsize=20)\n",
    "\n",
    "\t\tplt.subplot(5, 1, 5)\n",
    "\t\tplt.plot(time_scale, abp_signal_pred_approximate, c='r', label='Output Level 1', linewidth=2)\n",
    "\t\tplt.plot(time_scale, abp_signal_pred, c='b', label='Output Level 2', linewidth=2)\n",
    "\t\t# plt.plot(time_scale, abp_signal_ground_truth, c='g', label='Ground Truth', linewidth=2)\n",
    "\t\tplt.title('Comparison', fontsize=20)\n",
    "\t\tplt.xlabel('Time (sec)', fontsize=15)\n",
    "\t\tplt.ylabel('ABP (mmHg)', fontsize=15)\n",
    "\n",
    "\t\tplt.tight_layout()\n",
    "\n",
    "\t\tplt.show()"
   ]
  },
  {
   "cell_type": "code",
   "execution_count": 19,
   "metadata": {},
   "outputs": [],
   "source": [
    "# predicting_ABP_waveform(X_test, meta)"
   ]
  },
  {
   "cell_type": "code",
   "execution_count": null,
   "metadata": {},
   "outputs": [],
   "source": []
  },
  {
   "cell_type": "markdown",
   "metadata": {},
   "source": [
    "### Bland Altman plot"
   ]
  },
  {
   "cell_type": "code",
   "execution_count": 20,
   "metadata": {},
   "outputs": [],
   "source": [
    "import matplotlib.pyplot as plt\n",
    "import matplotlib.lines as mlines\n",
    "\n",
    "def bland_altman_plot():\n",
    "    \"\"\"\n",
    "\t\tDraws the Bland Altman plot\n",
    "\t\"\"\"\n",
    "\n",
    "    def bland_altman(data1, data2):\n",
    "        \"\"\"\n",
    "\t\tComputes mean +- 1.96 sd\n",
    "\t\t\n",
    "\t\tArguments:\n",
    "\t\t\tdata1 {array} -- series 1\n",
    "\t\t\tdata2 {array} -- series 2\n",
    "\t\t\"\"\"\n",
    "\n",
    "        data1 = np.asarray(data1)\n",
    "        data2 = np.asarray(data2)\n",
    "        mean = np.mean([data1, data2], axis=0)\n",
    "        diff = data1 - data2  # Difference between data1 and data2\n",
    "        md = np.mean(diff)  # Mean of the difference\n",
    "        sd = np.std(diff, axis=0)  # Standard deviation of the difference\n",
    "\n",
    "        plt.scatter(mean, diff, alpha=0.5, s=8)\n",
    "        plt.axhline(md, color='gray', linestyle='--')\n",
    "        plt.axhline(md + 1.96 * sd, color='gray', linestyle='--')\n",
    "        plt.axhline(md - 1.96 * sd, color='gray', linestyle='--')\n",
    "        plt.ylim(ymin=-75, ymax=75)\n",
    "        plt.xlabel('Avg. of Target and Estimated Value (mmHg)', fontsize=14)\n",
    "        plt.ylabel('Error in Prediction (mmHg)', fontsize=14)\n",
    "        print(md + 1.96 * sd, md - 1.96 * sd)\n",
    "\n",
    "        return str(md + 1.96 * sd) + ' | ' + str(md - 1.96 * sd)\n",
    "\n",
    "    YtrueSBP = np.array(convert_1d_to_2d(ndf['SBP'].tolist(), 1024)[:-1]).tolist()\n",
    "    YtrueDBP = np.array(convert_1d_to_2d(ndf['DBP'].tolist(), 1024)[:-1]).tolist()\n",
    "\n",
    "    Ypred = pickle.load(open('test_output.p','rb'))      # loading prediction\n",
    "    Ypred = Ypred * max_abp + min_abp\n",
    "\n",
    "    sbpTrues = []\n",
    "    sbpPreds = []\n",
    "\n",
    "    dbpTrues = []\n",
    "    dbpPreds = []\n",
    "\n",
    "    mapTrues = []\n",
    "    mapPreds = []\n",
    "\n",
    "    for i in (range(len(Ypred))):\n",
    "        y_sbp = YtrueSBP[i]\n",
    "        y_dbp = YtrueDBP[i]\n",
    "        y_p = Ypred[i].ravel()\n",
    "\n",
    "        sbpTrues.append(max(y_sbp))\n",
    "        sbpPreds.append(max(y_p))\n",
    "\n",
    "        dbpTrues.append(min(y_dbp))\n",
    "        dbpPreds.append(min(y_p))\n",
    "\n",
    "        mapTrues.append(np.mean([max(y_sbp), min(y_dbp)]))\n",
    "        mapPreds.append(np.mean(y_p))\n",
    "\n",
    "        \n",
    "    '''\n",
    "\t\tPlots the Bland Altman plot\n",
    "\t'''\n",
    "\n",
    "    fig = plt.figure(figsize=(18, 5), dpi=120)\n",
    "    plt.subplot(1, 3, 1)\n",
    "    print('---------DBP---------')\n",
    "    ba_dbp = bland_altman(dbpTrues, dbpPreds)\n",
    "    plt.title('Bland-Altman Plot for DBP Prediction', fontsize=18)\n",
    "\n",
    "    plt.subplot(1, 3, 2)\n",
    "    print('---------MAP---------')\n",
    "    ba_map = bland_altman(mapTrues, mapPreds)\n",
    "    plt.title('Bland-Altman Plot for MAP Prediction', fontsize=18)\n",
    "\n",
    "    plt.subplot(1, 3, 3)\n",
    "    print('---------SBP---------')\n",
    "    ba_sbp = bland_altman(sbpTrues, sbpPreds)\n",
    "    plt.title('Bland-Altman Plot for SBP Prediction', fontsize=18)\n",
    "\n",
    "    plt.show()\n",
    "\n",
    "    return plt, ba_dbp, ba_map, ba_sbp\n"
   ]
  },
  {
   "cell_type": "code",
   "execution_count": 21,
   "metadata": {},
   "outputs": [
    {
     "name": "stdout",
     "output_type": "stream",
     "text": [
      "---------DBP---------\n",
      "2.8641473210285575 -27.77525397560445\n",
      "---------MAP---------\n",
      "26.544148261573913 -13.689329100022572\n",
      "---------SBP---------\n",
      "38.598496131892716 -33.06719381604451\n"
     ]
    },
    {
     "data": {
      "image/png": "[encoded data removed]",
      "text/plain": [
       "<Figure size 2160x600 with 3 Axes>"
      ]
     },
     "metadata": {},
     "output_type": "display_data"
    },
    {
     "data": {
      "text/plain": [
       "(<module 'matplotlib.pyplot' from 'c:\\\\Users\\\\LuckyVerma\\\\anaconda3\\\\envs\\\\ml\\\\lib\\\\site-packages\\\\matplotlib\\\\pyplot.py'>,\n",
       " '2.8641473210285575 | -27.77525397560445',\n",
       " '26.544148261573913 | -13.689329100022572',\n",
       " '38.598496131892716 | -33.06719381604451')"
      ]
     },
     "execution_count": 21,
     "metadata": {},
     "output_type": "execute_result"
    }
   ],
   "source": [
    "bland_altman_plot()"
   ]
  },
  {
   "cell_type": "code",
   "execution_count": 22,
   "metadata": {},
   "outputs": [],
   "source": [
    "def evaluate_BHS_Standard():\n",
    "    \"\"\"\n",
    "\t\tEvaluates PPG2ABP based on\n",
    "\t\tBHS Standard Metric\n",
    "\t\"\"\"\n",
    "\n",
    "    def newline(p1, p2):\n",
    "        \"\"\"\n",
    "\t\tDraws a line between two points\n",
    "\t\t\n",
    "\t\tArguments:\n",
    "\t\t\tp1 {list} -- coordinate of the first point\n",
    "\t\t\tp2 {list} -- coordinate of the second point\n",
    "\t\t\n",
    "\t\tReturns:\n",
    "\t\t\tmlines.Line2D -- the drawn line\n",
    "\t\t\"\"\"\n",
    "        ax = plt.gca()\n",
    "        xmin, xmax = ax.get_xbound()\n",
    "\n",
    "        if(p2[0] == p1[0]):\n",
    "            xmin = xmax = p1[0]\n",
    "            ymin, ymax = ax.get_ybound()\n",
    "        else:\n",
    "            ymax = p1[1]+(p2[1]-p1[1])/(p2[0]-p1[0])*(xmax-p1[0])\n",
    "            ymin = p1[1]+(p2[1]-p1[1])/(p2[0]-p1[0])*(xmin-p1[0])\n",
    "\n",
    "        l = mlines.Line2D([xmin, xmax], [ymin, ymax], linewidth=1, linestyle='--')\n",
    "        ax.add_line(l)\n",
    "        return l\n",
    "\n",
    "    def BHS_metric(err):\n",
    "        \"\"\"\n",
    "\t\tComputes the BHS Standard metric\n",
    "\t\t\n",
    "\t\tArguments:\n",
    "\t\t\terr {array} -- array of absolute error\n",
    "\t\t\n",
    "\t\tReturns:\n",
    "\t\t\ttuple -- tuple of percentage of samples with <=5 mmHg, <=10 mmHg and <=15 mmHg error\n",
    "\t\t\"\"\"\n",
    "\n",
    "        leq5 = 0\n",
    "        leq10 = 0\n",
    "        leq15 = 0\n",
    "\n",
    "        for i in range(len(err)):\n",
    "\n",
    "            if(abs(err[i]) <= 5):\n",
    "                leq5 += 1\n",
    "                leq10 += 1\n",
    "                leq15 += 1\n",
    "\n",
    "            elif(abs(err[i]) <= 10):\n",
    "                leq10 += 1\n",
    "                leq15 += 1\n",
    "\n",
    "            elif(abs(err[i]) <= 15):\n",
    "                leq15 += 1\n",
    "\n",
    "        return (leq5*100.0/len(err), leq10*100.0/len(err), leq15*100.0/len(err))\n",
    "\n",
    "    def calcError(Ytrue, Ypred, max_abp, min_abp, max_ppg, min_ppg):\n",
    "        \"\"\"\n",
    "\t\tCalculates the absolute error of sbp,dbp,map etc.\n",
    "\t\t\n",
    "\t\tArguments:\n",
    "\t\t\tYtrue {array} -- ground truth\n",
    "\t\t\tYpred {array} -- predicted\n",
    "\t\t\tmax_abp {float} -- max value of abp signal\n",
    "\t\t\tmin_abp {float} -- min value of abp signal\n",
    "\t\t\tmax_ppg {float} -- max value of ppg signal\n",
    "\t\t\tmin_ppg {float} -- min value of ppg signal\n",
    "\t\t\n",
    "\t\tReturns:\n",
    "\t\t\ttuple -- tuple of abs. errors of sbp, dbp and map calculation\n",
    "\t\t\"\"\"\n",
    "\n",
    "        sbps = []\n",
    "        dbps = []\n",
    "        maps = []\n",
    "        maes = []\n",
    "        gt = []\n",
    "\n",
    "        hist = []\n",
    "\n",
    "        for i in (range(len(Ytrue))):\n",
    "            y_t = Ytrue[i].ravel()\n",
    "            y_p = Ypred[i].ravel()\n",
    "\n",
    "            dbps.append(max_abp*abs(min(y_t)-min(y_p)))\n",
    "            sbps.append(max_abp*abs(max(y_t)-max(y_p)))\n",
    "            maps.append(max_abp*abs(np.mean(y_t)-np.mean(y_p)))\n",
    "\n",
    "        return (sbps, dbps, maps)\n",
    "############################################################################################################\n",
    "\n",
    "    YtrueSBP = np.array(convert_1d_to_2d(ndf['SBP'].tolist(),\n",
    "                                         1024)[:-1]).tolist()\n",
    "    YtrueDBP = np.array(convert_1d_to_2d(ndf['DBP'].tolist(),\n",
    "                                         1024)[:-1]).tolist()\n",
    "\n",
    "    Ypred = pickle.load(open('test_output.p', 'rb'))  # loading prediction\n",
    "    Ypred = Ypred * max_abp + min_abp\n",
    "\n",
    "    sbpTrues = []\n",
    "    sbpPreds = []\n",
    "\n",
    "    dbpTrues = []\n",
    "    dbpPreds = []\n",
    "\n",
    "    mapTrues = []\n",
    "    mapPreds = []\n",
    "\n",
    "    for i in (range(len(Ypred))):\n",
    "        y_sbp = YtrueSBP[i]\n",
    "        y_dbp = YtrueDBP[i]\n",
    "        y_p = Ypred[i].ravel()\n",
    "\n",
    "        sbpTrues.append(max(y_sbp))\n",
    "        sbpPreds.append(max(y_p))\n",
    "\n",
    "        dbpTrues.append(min(y_dbp))\n",
    "        dbpPreds.append(min(y_p))\n",
    "\n",
    "        mapTrues.append(np.mean([max(y_sbp), min(y_dbp)]))\n",
    "        mapPreds.append(np.mean(y_p))\n",
    "\n",
    "\n",
    "############################################################################################################\n",
    "    dt = pickle.load(open(os.path.join('data', 'test.p'), 'rb'))    # loading test data\n",
    "    X_test = dt['X_test']\n",
    "    Y_test = dt['Y_test']\n",
    "\n",
    "    dt = pickle.load(open(os.path.join('data', 'meta9.p'), 'rb'))    # loading meta data\n",
    "    max_ppg = dt['max_ppg']\n",
    "    min_ppg = dt['min_ppg']\n",
    "    max_abp = dt['max_abp']\n",
    "    min_abp = dt['min_abp']\n",
    "\n",
    "    Y_pred = pickle.load(open('test_output.p', 'rb'))       # loading prediction\n",
    "\n",
    "    (sbps, dbps, maps) = calcError(Y_test, Y_pred, max_abp, min_abp, max_ppg, min_ppg)   # compute errors\n",
    "\n",
    "    sbp_percent = BHS_metric(sbps)           # compute BHS metric for sbp\n",
    "    dbp_percent = BHS_metric(dbps)           # compute BHS metric for dbp\n",
    "    map_percent = BHS_metric(maps)           # compute BHS metric for map\n",
    "\n",
    "    print('----------------------------')\n",
    "    print('|        BHS-Metric        |')\n",
    "    print('----------------------------')\n",
    "\n",
    "    print('----------------------------------------')\n",
    "    print('|     | <= 5mmHg | <=10mmHg | <=15mmHg |')\n",
    "    print('----------------------------------------')\n",
    "    print('| DBP |  {} %  |  {} %  |  {} %  |'.format(round(dbp_percent[0], 1), round(dbp_percent[1], 1), round(dbp_percent[2], 1)))\n",
    "    print('| MAP |  {} %  |  {} %  |  {} %  |'.format(round(map_percent[0], 1), round(map_percent[1], 1), round(map_percent[2], 1)))\n",
    "    print('| SBP |  {} %  |  {} %  |  {} %  |'.format(round(sbp_percent[0], 1), round(sbp_percent[1], 1), round(sbp_percent[2], 1)))\n",
    "    print('----------------------------------------')\n",
    "\n",
    "    '''\n",
    "\t\tPlot figures\n",
    "\t'''\n",
    "\n",
    "    ## SBPS ##\n",
    "\n",
    "    fig = plt.figure(figsize=(18, 4), dpi=120)\n",
    "    ax1 = plt.subplot(1,3,1)\n",
    "    ax2 = ax1.twinx()\n",
    "    sns.distplot(sbps, bins=100, kde=False, rug=False, ax=ax1)\n",
    "    sns.distplot(sbps, bins=100, kde=False, rug=False, ax=ax2)\n",
    "    ax2.set_yticklabels(['0 \\%', '3.67 \\%', '7.34 \\%',\n",
    "          '11.01 \\%', '14.67 \\%', '18.34 \\%', '22.01 \\%'])\n",
    "    ax1.set_xlabel(r'$|$'+'Error'+r'$|$' + ' (mmHg)', fontsize=14)\n",
    "    ax1.set_ylabel('Number of Samples', fontsize=14)\n",
    "    ax2.set_ylabel('Percentage of Samples', fontsize=14)\n",
    "    plt.title('Absolute Error in SBP Prediction', fontsize=18)\n",
    "    plt.xlim(xmax=60.0, xmin=0.0)\n",
    "    plt.xticks(np.arange(0, 60+1, 5))\n",
    "    p1 = [5, 0]\n",
    "    p2 = [5, 10000]\n",
    "    newline(p1, p2)\n",
    "    p1 = [10, 0]\n",
    "    p2 = [10, 10000]\n",
    "    newline(p1, p2)\n",
    "    p1 = [15, 0]\n",
    "    p2 = [15, 10000]\n",
    "    newline(p1, p2)\n",
    "    plt.tight_layout()\n",
    "\n",
    "    ## DBPS ##\n",
    "\n",
    "\n",
    "    ax1 = plt.subplot(1,3,2)\n",
    "    ax2 = ax1.twinx()\n",
    "    sns.distplot(dbps, bins=100, kde=False, rug=False, ax=ax1)\n",
    "    sns.distplot(dbps, bins=100, kde=False, rug=False, ax=ax2)\n",
    "    ax2.set_yticklabels(['0 \\%', '7.34 \\%', '14.67 \\%',\n",
    "          '22.01 \\%', '29.35 \\%', '36.68 \\%', '44.02 \\%'])\n",
    "    ax1.set_xlabel(r'$|$'+'Error'+r'$|$' + ' (mmHg)', fontsize=14)\n",
    "    ax1.set_ylabel('Number of Samples', fontsize=14)\n",
    "    ax2.set_ylabel('Percentage of Samples', fontsize=14)\n",
    "    plt.title('Absolute Error in DBP Prediction', fontsize=18)\n",
    "    plt.xlim(xmax=60.0, xmin=0.0)\n",
    "    plt.xticks(np.arange(0, 60+1, 5))\n",
    "    p1 = [5, 0]\n",
    "    p2 = [5, 10000]\n",
    "    newline(p1, p2)\n",
    "    p1 = [10, 0]\n",
    "    p2 = [10, 10000]\n",
    "    newline(p1, p2)\n",
    "    p1 = [15, 0]\n",
    "    p2 = [15, 10000]\n",
    "    newline(p1, p2)\n",
    "    plt.tight_layout()\n",
    "\n",
    "    ## MAPS ##\n",
    "\n",
    "\n",
    "    ax1 = plt.subplot(1,3,3)\n",
    "    ax2 = ax1.twinx()\n",
    "    sns.distplot(maps, bins=100, kde=False, rug=False, ax=ax1)\n",
    "    sns.distplot(maps, bins=100, kde=False, rug=False, ax=ax2)\n",
    "    ax2.set_yticklabels(['0 \\%', '7.34 \\%', '14.67 \\%', '22.01 \\%',\n",
    "          '29.35 \\%', '36.68 \\%', '44.02 \\%', '51.36 \\%'])\n",
    "    ax1.set_xlabel(r'$|$'+'Error'+r'$|$' + ' (mmHg)', fontsize=14)\n",
    "    ax1.set_ylabel('Number of Samples', fontsize=14)\n",
    "    ax2.set_ylabel('Percentage of Samples', fontsize=14)\n",
    "    plt.title('Absolute Error in MAP Prediction', fontsize=18)\n",
    "    plt.xlim(xmax=60.0, xmin=0.0)\n",
    "    plt.xticks(np.arange(0, 60+1, 5))\n",
    "    p1 = [5, 0]\n",
    "    p2 = [5, 10000]\n",
    "    newline(p1, p2)\n",
    "    p1 = [10, 0]\n",
    "    p2 = [10, 10000]\n",
    "    newline(p1, p2)\n",
    "    p1 = [15, 0]\n",
    "    p2 = [15, 10000]\n",
    "    newline(p1, p2)\n",
    "    plt.tight_layout()\n",
    "\n",
    "    plt.show()\n",
    "\n",
    "    return plt, [round(dbp_percent[0], 1), round(dbp_percent[1], 1), round(dbp_percent[2], 1)], [round(map_percent[0], 1), round(map_percent[1], 1), round(map_percent[2], 1)], [round(sbp_percent[0], 1), round(sbp_percent[1], 1), round(sbp_percent[2], 1)]\n"
   ]
  },
  {
   "cell_type": "code",
   "execution_count": null,
   "metadata": {},
   "outputs": [],
   "source": []
  },
  {
   "cell_type": "code",
   "execution_count": null,
   "metadata": {},
   "outputs": [],
   "source": []
  }
 ],
 "metadata": {
  "kernelspec": {
   "display_name": "Python 3.8.13 ('ml')",
   "language": "python",
   "name": "python3"
  },
  "language_info": {
   "codemirror_mode": {
    "name": "ipython",
    "version": 3
   },
   "file_extension": ".py",
   "mimetype": "text/x-python",
   "name": "python",
   "nbconvert_exporter": "python",
   "pygments_lexer": "ipython3",
   "version": "3.8.13"
  },
  "orig_nbformat": 4,
  "vscode": {
   "interpreter": {
    "hash": "116d2a9f8f87e7e116b9718681d201753eabc86f508c156c541b17dc772bc6ff"
   }
  }
 },
 "nbformat": 4,
 "nbformat_minor": 2
}
