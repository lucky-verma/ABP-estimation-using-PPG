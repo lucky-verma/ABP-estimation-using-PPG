{
 "cells": [
  {
   "cell_type": "code",
   "execution_count": null,
   "metadata": {},
   "outputs": [],
   "source": [
    "import torch\n",
    "from data_processing import process_data\n",
    "\n",
    "# show the version of pytorch\n",
    "print(torch.__version__)\n"
   ]
  },
  {
   "cell_type": "code",
   "execution_count": null,
   "metadata": {},
   "outputs": [],
   "source": [
    "# Read mat file using hdf5\n",
    "import h5py\n",
    "import numpy as np\n",
    "import matplotlib.pyplot as plt\n",
    "import matplotlib.image as mpimg\n",
    "import os\n",
    "import cv2\n",
    "import random\n",
    "import pickle\n"
   ]
  },
  {
   "cell_type": "code",
   "execution_count": null,
   "metadata": {},
   "outputs": [],
   "source": [
    "f = h5py.File('raw_data/Part_1.mat', 'r')"
   ]
  },
  {
   "cell_type": "code",
   "execution_count": null,
   "metadata": {},
   "outputs": [],
   "source": [
    "len(f), list(f.keys())"
   ]
  },
  {
   "cell_type": "code",
   "execution_count": null,
   "metadata": {},
   "outputs": [],
   "source": [
    "len(f['Part_1'])"
   ]
  },
  {
   "cell_type": "code",
   "execution_count": null,
   "metadata": {},
   "outputs": [],
   "source": [
    "len(f[f['Part_1'][99][0]])"
   ]
  },
  {
   "cell_type": "code",
   "execution_count": null,
   "metadata": {},
   "outputs": [],
   "source": [
    "f[f['Part_1'][99][0]][69]"
   ]
  },
  {
   "cell_type": "code",
   "execution_count": null,
   "metadata": {},
   "outputs": [],
   "source": []
  },
  {
   "cell_type": "markdown",
   "metadata": {},
   "source": [
    "### Read kaggle mat file\n"
   ]
  },
  {
   "cell_type": "code",
   "execution_count": 2,
   "metadata": {},
   "outputs": [],
   "source": [
    "# Read the mat file\n",
    "from scipy.io import loadmat \n",
    "mat = loadmat('raw_data_k/part_1.mat')['p']"
   ]
  },
  {
   "cell_type": "code",
   "execution_count": 3,
   "metadata": {},
   "outputs": [
    {
     "data": {
      "text/plain": [
       "1000"
      ]
     },
     "execution_count": 3,
     "metadata": {},
     "output_type": "execute_result"
    }
   ],
   "source": [
    "len(mat[0])"
   ]
  },
  {
   "cell_type": "code",
   "execution_count": 4,
   "metadata": {},
   "outputs": [
    {
     "data": {
      "text/plain": [
       "67000"
      ]
     },
     "execution_count": 4,
     "metadata": {},
     "output_type": "execute_result"
    }
   ],
   "source": [
    "len(mat[0][99][0])"
   ]
  },
  {
   "cell_type": "code",
   "execution_count": 5,
   "metadata": {},
   "outputs": [
    {
     "data": {
      "text/plain": [
       "array([67.06295517, 69.35862807, 75.36645289, ..., 76.44102319,\n",
       "       81.81387466, 91.38731909])"
      ]
     },
     "execution_count": 5,
     "metadata": {},
     "output_type": "execute_result"
    }
   ],
   "source": [
    "mat[0][0][1]"
   ]
  },
  {
   "cell_type": "code",
   "execution_count": null,
   "metadata": {},
   "outputs": [],
   "source": []
  },
  {
   "cell_type": "code",
   "execution_count": 6,
   "metadata": {},
   "outputs": [],
   "source": [
    "bp = mat[0][99][1].tolist() "
   ]
  },
  {
   "cell_type": "code",
   "execution_count": 7,
   "metadata": {},
   "outputs": [
    {
     "data": {
      "text/plain": [
       "150.21110750243585"
      ]
     },
     "execution_count": 7,
     "metadata": {},
     "output_type": "execute_result"
    }
   ],
   "source": [
    "fs = 125\t\t\t\t\t\t\t\t# sampling frequency\n",
    "t = 10\t\t\t\t\t\t\t\t\t# length of ppg episodes\n",
    "dt = 5\t\t\t\t\t\t\t\t\t# step size of taking the next episode\n",
    "\n",
    "samples_in_episode = round(fs * t)\n",
    "\n",
    "\n",
    "max(bp[0:0 + samples_in_episode])\n"
   ]
  },
  {
   "cell_type": "code",
   "execution_count": 8,
   "metadata": {},
   "outputs": [],
   "source": [
    "\n",
    "candidates = pickle.load(open('candidates.p', 'rb'))\n",
    "\n",
    "record_no = int(candidates[0][1])"
   ]
  },
  {
   "cell_type": "code",
   "execution_count": 15,
   "metadata": {},
   "outputs": [
    {
     "data": {
      "text/plain": [
       "67.1117337100187"
      ]
     },
     "execution_count": 15,
     "metadata": {},
     "output_type": "execute_result"
    }
   ],
   "source": [
    "mat[0][record_no][1][69]"
   ]
  },
  {
   "cell_type": "code",
   "execution_count": null,
   "metadata": {},
   "outputs": [],
   "source": []
  },
  {
   "cell_type": "code",
   "execution_count": null,
   "metadata": {},
   "outputs": [],
   "source": []
  },
  {
   "cell_type": "code",
   "execution_count": null,
   "metadata": {},
   "outputs": [],
   "source": [
    "from kaggle_dataprocessing import process_data\n",
    "\n",
    "process_data()"
   ]
  },
  {
   "cell_type": "code",
   "execution_count": null,
   "metadata": {},
   "outputs": [],
   "source": []
  },
  {
   "cell_type": "code",
   "execution_count": null,
   "metadata": {},
   "outputs": [],
   "source": [
    "from data_processing import process_data\n",
    "\n",
    "process_data()"
   ]
  },
  {
   "cell_type": "code",
   "execution_count": null,
   "metadata": {},
   "outputs": [],
   "source": [
    "from data_processing import observe_processed_data\n",
    "\n",
    "observe_processed_data()\n"
   ]
  },
  {
   "cell_type": "code",
   "execution_count": null,
   "metadata": {},
   "outputs": [],
   "source": [
    "from data_processing import downsample_data\n",
    "\n",
    "downsample_data()\n"
   ]
  },
  {
   "cell_type": "code",
   "execution_count": 1,
   "metadata": {},
   "outputs": [
    {
     "name": "stdout",
     "output_type": "stream",
     "text": [
      "[WinError 183] Cannot create a file when that file already exists: 'ppgs'\n",
      "[WinError 183] Cannot create a file when that file already exists: 'abps'\n"
     ]
    },
    {
     "name": "stderr",
     "output_type": "stream",
     "text": [
      "Reading from Files:   0%|          | 0/12 [00:00<?, ?it/s]"
     ]
    }
   ],
   "source": [
    "from kaggle_dataprocessing import extract_episodes\n",
    "import pickle\n",
    "\n",
    "candidates = pickle.load(open('candidates.p', 'rb'))\n",
    "extract_episodes(candidates)\n"
   ]
  },
  {
   "cell_type": "code",
   "execution_count": 1,
   "metadata": {},
   "outputs": [
    {
     "name": "stderr",
     "output_type": "stream",
     "text": [
      "100%|██████████| 2075/2075 [00:23<00:00, 88.97it/s] \n"
     ]
    }
   ],
   "source": [
    "from kaggle_dataprocessing import merge_episodes\n",
    "\n",
    "merge_episodes()\n"
   ]
  },
  {
   "cell_type": "code",
   "execution_count": 2,
   "metadata": {},
   "outputs": [
    {
     "name": "stderr",
     "output_type": "stream",
     "text": [
      "Training Data Part 1:   2%|▏         | 2075/90000 [00:03<02:49, 520.05it/s]\n",
      "Folding Data:   0%|          | 0/10 [00:04<?, ?it/s]\n"
     ]
    },
    {
     "ename": "ValueError",
     "evalue": "Index (2075) out of range (0-2074)",
     "output_type": "error",
     "traceback": [
      "\u001b[1;31m---------------------------------------------------------------------------\u001b[0m",
      "\u001b[1;31mValueError\u001b[0m                                Traceback (most recent call last)",
      "Cell \u001b[1;32mIn [2], line 3\u001b[0m\n\u001b[0;32m      1\u001b[0m \u001b[38;5;28;01mfrom\u001b[39;00m \u001b[38;5;21;01mdata_handling\u001b[39;00m \u001b[38;5;28;01mimport\u001b[39;00m fold_data\n\u001b[1;32m----> 3\u001b[0m \u001b[43mfold_data\u001b[49m\u001b[43m(\u001b[49m\u001b[43m)\u001b[49m\n",
      "File \u001b[1;32mc:\\Users\\LuckyVerma\\Documents\\ABP-estimation-using-PPG\\other\\PPG2ABP\\codes\\data_handling.py:56\u001b[0m, in \u001b[0;36mfold_data\u001b[1;34m()\u001b[0m\n\u001b[0;32m     52\u001b[0m val_end \u001b[39m=\u001b[39m val_start \u001b[39m+\u001b[39m \u001b[39m10000\u001b[39m                     \u001b[39m# validation data end\u001b[39;00m\n\u001b[0;32m     54\u001b[0m \u001b[39mfor\u001b[39;00m i \u001b[39min\u001b[39;00m tqdm(\u001b[39mrange\u001b[39m(\u001b[39m0\u001b[39m, val_start), desc\u001b[39m=\u001b[39m\u001b[39m'\u001b[39m\u001b[39mTraining Data Part 1\u001b[39m\u001b[39m'\u001b[39m):    \u001b[39m# training samples before validation samples\u001b[39;00m\n\u001b[1;32m---> 56\u001b[0m     X_train\u001b[39m.\u001b[39mappend(np\u001b[39m.\u001b[39marray(fl[\u001b[39m'\u001b[39;49m\u001b[39mdata\u001b[39;49m\u001b[39m'\u001b[39;49m][i][\u001b[39m1\u001b[39m][:length])\u001b[39m.\u001b[39mreshape(length, \u001b[39m1\u001b[39m))  \u001b[39m# ppg signal\u001b[39;00m\n\u001b[0;32m     57\u001b[0m     Y_train\u001b[39m.\u001b[39mappend(np\u001b[39m.\u001b[39marray(fl[\u001b[39m'\u001b[39m\u001b[39mdata\u001b[39m\u001b[39m'\u001b[39m][i][\u001b[39m0\u001b[39m][:length])\u001b[39m.\u001b[39mreshape(length, \u001b[39m1\u001b[39m))  \u001b[39m# abp signal\u001b[39;00m\n\u001b[0;32m     59\u001b[0m     max_ppg \u001b[39m=\u001b[39m \u001b[39mmax\u001b[39m(\u001b[39mmax\u001b[39m(fl[\u001b[39m'\u001b[39m\u001b[39mdata\u001b[39m\u001b[39m'\u001b[39m][i][\u001b[39m1\u001b[39m]), max_ppg)       \u001b[39m# update min-max of ppg \u001b[39;00m\n",
      "File \u001b[1;32mh5py\\_objects.pyx:54\u001b[0m, in \u001b[0;36mh5py._objects.with_phil.wrapper\u001b[1;34m()\u001b[0m\n",
      "File \u001b[1;32mh5py\\_objects.pyx:55\u001b[0m, in \u001b[0;36mh5py._objects.with_phil.wrapper\u001b[1;34m()\u001b[0m\n",
      "File \u001b[1;32mc:\\Users\\LuckyVerma\\anaconda3\\envs\\ml\\lib\\site-packages\\h5py\\_hl\\dataset.py:553\u001b[0m, in \u001b[0;36mDataset.__getitem__\u001b[1;34m(self, args)\u001b[0m\n\u001b[0;32m    548\u001b[0m     \u001b[39mreturn\u001b[39;00m arr\n\u001b[0;32m    550\u001b[0m \u001b[39m# === Everything else ===================\u001b[39;00m\n\u001b[0;32m    551\u001b[0m \n\u001b[0;32m    552\u001b[0m \u001b[39m# Perform the dataspace selection.\u001b[39;00m\n\u001b[1;32m--> 553\u001b[0m selection \u001b[39m=\u001b[39m sel\u001b[39m.\u001b[39;49mselect(\u001b[39mself\u001b[39;49m\u001b[39m.\u001b[39;49mshape, args, dsid\u001b[39m=\u001b[39;49m\u001b[39mself\u001b[39;49m\u001b[39m.\u001b[39;49mid)\n\u001b[0;32m    555\u001b[0m \u001b[39mif\u001b[39;00m selection\u001b[39m.\u001b[39mnselect \u001b[39m==\u001b[39m \u001b[39m0\u001b[39m:\n\u001b[0;32m    556\u001b[0m     \u001b[39mreturn\u001b[39;00m numpy\u001b[39m.\u001b[39mndarray(selection\u001b[39m.\u001b[39mmshape, dtype\u001b[39m=\u001b[39mnew_dtype)\n",
      "File \u001b[1;32mc:\\Users\\LuckyVerma\\anaconda3\\envs\\ml\\lib\\site-packages\\h5py\\_hl\\selections.py:94\u001b[0m, in \u001b[0;36mselect\u001b[1;34m(shape, args, dsid)\u001b[0m\n\u001b[0;32m     91\u001b[0m             \u001b[39mreturn\u001b[39;00m sel\n\u001b[0;32m     93\u001b[0m sel \u001b[39m=\u001b[39m SimpleSelection(shape)\n\u001b[1;32m---> 94\u001b[0m sel[args]\n\u001b[0;32m     95\u001b[0m \u001b[39mreturn\u001b[39;00m sel\n",
      "File \u001b[1;32mc:\\Users\\LuckyVerma\\anaconda3\\envs\\ml\\lib\\site-packages\\h5py\\_hl\\selections.py:261\u001b[0m, in \u001b[0;36mSimpleSelection.__getitem__\u001b[1;34m(self, args)\u001b[0m\n\u001b[0;32m    258\u001b[0m     \u001b[39mself\u001b[39m\u001b[39m.\u001b[39m_id\u001b[39m.\u001b[39mselect_all()\n\u001b[0;32m    259\u001b[0m     \u001b[39mreturn\u001b[39;00m \u001b[39mself\u001b[39m\n\u001b[1;32m--> 261\u001b[0m start, count, step, scalar \u001b[39m=\u001b[39m _handle_simple(\u001b[39mself\u001b[39;49m\u001b[39m.\u001b[39;49mshape,args)\n\u001b[0;32m    263\u001b[0m \u001b[39mself\u001b[39m\u001b[39m.\u001b[39m_id\u001b[39m.\u001b[39mselect_hyperslab(start, count, step)\n\u001b[0;32m    265\u001b[0m \u001b[39mself\u001b[39m\u001b[39m.\u001b[39m_sel \u001b[39m=\u001b[39m (start, count, step, scalar)\n",
      "File \u001b[1;32mc:\\Users\\LuckyVerma\\anaconda3\\envs\\ml\\lib\\site-packages\\h5py\\_hl\\selections.py:466\u001b[0m, in \u001b[0;36m_handle_simple\u001b[1;34m(shape, args)\u001b[0m\n\u001b[0;32m    464\u001b[0m \u001b[39melse\u001b[39;00m:\n\u001b[0;32m    465\u001b[0m     \u001b[39mtry\u001b[39;00m:\n\u001b[1;32m--> 466\u001b[0m         x,y,z \u001b[39m=\u001b[39m _translate_int(\u001b[39mint\u001b[39;49m(arg), length)\n\u001b[0;32m    467\u001b[0m         s \u001b[39m=\u001b[39m \u001b[39mTrue\u001b[39;00m\n\u001b[0;32m    468\u001b[0m     \u001b[39mexcept\u001b[39;00m \u001b[39mTypeError\u001b[39;00m:\n",
      "File \u001b[1;32mc:\\Users\\LuckyVerma\\anaconda3\\envs\\ml\\lib\\site-packages\\h5py\\_hl\\selections.py:486\u001b[0m, in \u001b[0;36m_translate_int\u001b[1;34m(exp, length)\u001b[0m\n\u001b[0;32m    483\u001b[0m     exp \u001b[39m=\u001b[39m length\u001b[39m+\u001b[39mexp\n\u001b[0;32m    485\u001b[0m \u001b[39mif\u001b[39;00m \u001b[39mnot\u001b[39;00m \u001b[39m0\u001b[39m\u001b[39m<\u001b[39m\u001b[39m=\u001b[39mexp\u001b[39m<\u001b[39mlength:\n\u001b[1;32m--> 486\u001b[0m     \u001b[39mraise\u001b[39;00m \u001b[39mValueError\u001b[39;00m(\u001b[39m\"\u001b[39m\u001b[39mIndex (\u001b[39m\u001b[39m%s\u001b[39;00m\u001b[39m) out of range (0-\u001b[39m\u001b[39m%s\u001b[39;00m\u001b[39m)\u001b[39m\u001b[39m\"\u001b[39m \u001b[39m%\u001b[39m (exp, length\u001b[39m-\u001b[39m\u001b[39m1\u001b[39m))\n\u001b[0;32m    488\u001b[0m \u001b[39mreturn\u001b[39;00m exp, \u001b[39m1\u001b[39m, \u001b[39m1\u001b[39m\n",
      "\u001b[1;31mValueError\u001b[0m: Index (2075) out of range (0-2074)"
     ]
    }
   ],
   "source": [
    "from data_handling import fold_data\n",
    "\n",
    "fold_data()\n"
   ]
  },
  {
   "cell_type": "code",
   "execution_count": null,
   "metadata": {},
   "outputs": [],
   "source": []
  }
 ],
 "metadata": {
  "kernelspec": {
   "display_name": "Python 3.8.13 ('ml')",
   "language": "python",
   "name": "python3"
  },
  "language_info": {
   "codemirror_mode": {
    "name": "ipython",
    "version": 3
   },
   "file_extension": ".py",
   "mimetype": "text/x-python",
   "name": "python",
   "nbconvert_exporter": "python",
   "pygments_lexer": "ipython3",
   "version": "3.8.13"
  },
  "orig_nbformat": 4,
  "vscode": {
   "interpreter": {
    "hash": "116d2a9f8f87e7e116b9718681d201753eabc86f508c156c541b17dc772bc6ff"
   }
  }
 },
 "nbformat": 4,
 "nbformat_minor": 2
}
