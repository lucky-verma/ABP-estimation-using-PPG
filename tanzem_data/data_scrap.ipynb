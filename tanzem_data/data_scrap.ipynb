{
 "cells": [
  {
   "attachments": {},
   "cell_type": "markdown",
   "metadata": {},
   "source": [
    "The following code is used to scrape data from the web using selenium."
   ]
  },
  {
   "cell_type": "code",
   "execution_count": 1,
   "metadata": {},
   "outputs": [],
   "source": [
    "# import necessary libraries\n",
    "import pandas as pd\n",
    "import numpy as np\n",
    "import matplotlib.pyplot as plt\n",
    "import seaborn as sns\n",
    "import datetime\n",
    "import time\n",
    "import requests\n",
    "import json\n",
    "import os\n",
    "import re\n",
    "import sys\n",
    "import warnings\n",
    "warnings.filterwarnings('ignore')\n",
    "from bs4 import BeautifulSoup\n",
    "from selenium import webdriver\n",
    "from selenium.webdriver.common.keys import Keys\n",
    "from selenium.webdriver.support.ui import WebDriverWait\n",
    "from selenium.webdriver.support import expected_conditions as EC\n",
    "from selenium.webdriver.common.by import By\n",
    "from selenium.webdriver.common.action_chains import ActionChains\n",
    "from selenium.webdriver.support.ui import Select\n",
    "from selenium.webdriver.chrome.options import Options\n",
    "\n",
    "# Set up the driver\n",
    "\n",
    "DRIVER_PATH = './chromedriver.exe'\n",
    "driver = webdriver.Chrome(executable_path=DRIVER_PATH)\n",
    "\n",
    "# Open the website\n",
    "driver.get('https://tanzenmed.com/dashboard/login')\n",
    "# add delay to allow the page to load\n",
    "time.sleep(3)"
   ]
  },
  {
   "attachments": {},
   "cell_type": "markdown",
   "metadata": {},
   "source": [
    "### Login"
   ]
  },
  {
   "cell_type": "code",
   "execution_count": 2,
   "metadata": {},
   "outputs": [],
   "source": [
    "# load credentials from json file\n",
    "with open('./tanzen_keys.json') as f:\n",
    "    data = json.load(f)\n",
    "    email = data['email']\n",
    "    password = data['password']\n",
    "\n",
    "# Login to the website\n",
    "username = driver.find_element(By.XPATH, \"//*[@id='email']\")\n",
    "username.send_keys(email)\n",
    "passwrd = driver.find_element(By.ID, \"password\")\n",
    "passwrd.send_keys(password)\n",
    "\n",
    "# Click on the Sign-in button\n",
    "driver.find_element(By.XPATH, '//*[@id=\"app\"]/div/div/div/div/div/span/form/button').click()\n",
    "time.sleep(1)"
   ]
  },
  {
   "attachments": {},
   "cell_type": "markdown",
   "metadata": {},
   "source": [
    "### Search criteria"
   ]
  },
  {
   "cell_type": "code",
   "execution_count": 4,
   "metadata": {},
   "outputs": [],
   "source": [
    "# CLick on the Burger menu\n",
    "driver.find_element(By.XPATH, '//*[@id=\"app\"]/div/nav/div/ul[1]/li/a').click()\n",
    "time.sleep(1)\n",
    "\n",
    "# Click on the \"View Data\" button\n",
    "driver.find_element(By.XPATH, '//*[@id=\"app\"]/div/div[1]/ul/ul/li[8]/a').click()\n",
    "time.sleep(1)\n",
    "\n",
    "# # click close button\n",
    "# driver.find_element(By.XPATH, '/html/body/div[2]/div/div[1]/div[1]/ul/li[2]/a/svg[1]').click()\n",
    "# time.sleep(1)\n",
    "\n",
    "# Enter Search query\n",
    "search_query = driver.find_element(By.XPATH, '/html/body/div[2]/div/div[3]/div[3]/div[2]/div/div/div[1]/div[2]/div[1]/fieldset/div/div/input')\n",
    "search_query.send_keys('UPMC')\n",
    "time.sleep(1)\n",
    "\n",
    "# Expand the show more dropdown\n",
    "driver.find_element(By.XPATH, '/html/body/div[2]/div/div[3]/div[3]/div[2]/div/div/div[1]/div[2]/div[2]/div[2]/div/div[3]/div[1]/select')\n",
    "# select the \"50\" option\n",
    "driver.find_element(By.XPATH, '/html/body/div[2]/div/div[3]/div[3]/div[2]/div/div/div[1]/div[2]/div[2]/div[2]/div/div[3]/div[1]/select/option[4]').click()\n",
    "time.sleep(1)\n",
    "\n",
    "# Expand the session table show more dropdown\n",
    "driver.find_element(By.XPATH, '/html/body/div[2]/div/div[3]/div[3]/div[2]/div/div/div[2]/div[2]/div[2]/div/div/div[3]/div[1]/select')\n",
    "# select the \"50\" option\n",
    "driver.find_element(By.XPATH, '/html/body/div[2]/div/div[3]/div[3]/div[2]/div/div/div[2]/div[2]/div[2]/div/div/div[3]/div[1]/select/option[3]').click()\n",
    "time.sleep(1)"
   ]
  },
  {
   "attachments": {},
   "cell_type": "markdown",
   "metadata": {},
   "source": [
    "### Selecting the search criteria"
   ]
  },
  {
   "cell_type": "code",
   "execution_count": 11,
   "metadata": {},
   "outputs": [
    {
     "name": "stdout",
     "output_type": "stream",
     "text": [
      "16 username: UPMC-S1-AD04\n",
      "sess id: 1\n",
      "sess id: 2\n",
      "sess id: 3\n",
      "sess id: 4\n",
      "sess id: 5\n",
      "sess id: 6\n",
      "sess id: 7\n",
      "sess id: 8\n",
      "sess id: 9\n",
      "sess id: 10\n",
      "sess id: 11\n",
      "17 username: UPMC-S1-AD05\n",
      "sess id: 1\n",
      "sess id: 2\n",
      "sess id: 3\n",
      "sess id: 4\n",
      "sess id: 5\n",
      "sess id: 6\n",
      "sess id: 7\n",
      "sess id: 8\n",
      "sess id: 9\n",
      "sess id: 10\n",
      "sess id: 11\n",
      "sess id: 12\n",
      "sess id: 13\n",
      "sess id: 14\n",
      "sess id: 15\n",
      "sess id: 16\n",
      "sess id: 17\n",
      "sess id: 18\n",
      "sess id: 19\n",
      "sess id: 20\n",
      "sess id: 21\n",
      "sess id: 22\n",
      "sess id: 23\n",
      "sess id: 24\n",
      "sess id: 25\n",
      "sess id: 26\n"
     ]
    }
   ],
   "source": [
    "import shutil\n",
    "\n",
    "# set the download path\n",
    "down_path = \"C://Users/lucki/Downloads\"\n",
    "\n",
    "# make a directory for the data if it doesn't exist\n",
    "if not os.path.exists(f'{down_path}/tanzen_data'):\n",
    "    os.mkdir(f'{down_path}/tanzen_data')\n",
    "\n",
    "\n",
    "# loop through the results and click on each checkbox\n",
    "for i in range(16, 53):\n",
    "    driver.find_element(By.XPATH, f'//*[@id=\"vgt-table\"]/tbody[2]/tr[{i}]/td[1]').click()\n",
    "    time.sleep(2)\n",
    "\n",
    "    # get the username\n",
    "    username = driver.find_element(By.XPATH, f'/html/body/div[2]/div/div[3]/div[3]/div[2]/div/div/div[1]/div[2]/div[2]/div[2]/div/div[2]/table/tbody[2]/tr[{i}]/td[2]/span').text\n",
    "    time.sleep(2)\n",
    "    print(f'{i} username: {username}')\n",
    "    \n",
    "    # get the lenght of session table\n",
    "    session_table = driver.find_element(By.XPATH, '/html/body/div[2]/div/div[3]/div[3]/div[2]/div/div/div[2]/div[2]').text\n",
    "    session_table = session_table.split('entries')\n",
    "    session_table = session_table[0].split('of')\n",
    "    session_table = session_table[1].strip()\n",
    "    session_table = int(session_table)\n",
    "\n",
    "    # make a directory for each user\n",
    "    os.mkdir(f'{down_path}/tanzen_data/{username}')\n",
    "\n",
    "\n",
    "    # download the data for each session\n",
    "    for j in range(1, session_table+1):\n",
    "        print(f'sess id: {j}')\n",
    "\n",
    "        # click on the session ID\n",
    "        driver.find_element(By.XPATH, f'/html/body/div[2]/div/div[3]/div[3]/div[2]/div/div/div[2]/div[2]/div[2]/div/div/div[2]/table/tbody/tr[{j}]/td[9]/span/span').click()\n",
    "\n",
    "        # wait for the file to load\n",
    "        time.sleep(120)\n",
    "\n",
    "        # click action button\n",
    "        driver.find_element(By.XPATH, f'/html/body/div[2]/div/div[3]/div[3]/div[2]/div/div/div[2]/div[2]/div[2]/div/div/div[2]/table/tbody/tr[{j}]/td[11]/span/span/div/button').click()\n",
    "        time.sleep(3)\n",
    "    \n",
    "\n",
    "        # click download button\n",
    "        driver.find_element(By.XPATH, f'/html/body/div[2]/div/div[3]/div[3]/div[2]/div/div/div[2]/div[2]/div[2]/div/div/div[2]/table/tbody/tr[{j}]/td[11]/span/span/div/ul/li[3]/a').click()\n",
    "        time.sleep(5)\n",
    "\n",
    "    # move the download csv files to the user directory\n",
    "    for file in os.listdir(down_path):\n",
    "        if file.endswith('.csv'):\n",
    "            shutil.move(f'{down_path}/{file}', f'{down_path}/tanzen_data/{username}')\n"
   ]
  },
  {
   "cell_type": "code",
   "execution_count": null,
   "metadata": {},
   "outputs": [],
   "source": []
  },
  {
   "cell_type": "code",
   "execution_count": null,
   "metadata": {},
   "outputs": [],
   "source": []
  },
  {
   "cell_type": "code",
   "execution_count": null,
   "metadata": {},
   "outputs": [],
   "source": []
  },
  {
   "cell_type": "code",
   "execution_count": null,
   "metadata": {},
   "outputs": [],
   "source": []
  }
 ],
 "metadata": {
  "kernelspec": {
   "display_name": "stylegan3",
   "language": "python",
   "name": "python3"
  },
  "language_info": {
   "codemirror_mode": {
    "name": "ipython",
    "version": 3
   },
   "file_extension": ".py",
   "mimetype": "text/x-python",
   "name": "python",
   "nbconvert_exporter": "python",
   "pygments_lexer": "ipython3",
   "version": "3.9.15"
  },
  "orig_nbformat": 4
 },
 "nbformat": 4,
 "nbformat_minor": 2
}
